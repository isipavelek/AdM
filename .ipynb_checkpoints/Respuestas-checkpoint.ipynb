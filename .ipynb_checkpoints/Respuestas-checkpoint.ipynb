{
 "cells": [
  {
   "cell_type": "markdown",
   "id": "53f320b8",
   "metadata": {},
   "source": [
    "<img src=\"LSE.png\" width=\"150\" height=\"150\" align=\"right\"/>\n",
    "\n",
    "<center> <b> <font size=5> Arquitectura de Microprocesadores <br>\n",
    "Carrera de Especialización en Sistemas Embebidos <br> Universidad de Buenos Aires </font></b> </center>\n",
    "\n",
    "\n",
    "<br><br>\n",
    "\n",
    "**Alumno:** Ing. Pavelek Israel \\\n",
    "**Docente:** Mg. Ing. Santiago Germino\n"
   ]
  },
  {
   "cell_type": "markdown",
   "id": "e7955142",
   "metadata": {},
   "source": [
    "1.Describa brevemente los diferentes perfiles de familias de microprocesadores/microcontroladores de ARM. Explique alguna de sus diferencias características.\n",
    "\n",
    "* Cortex A (aplicaciones)- Tiene Memoria Cache\n",
    "* Cortex R (Real Time) - No tiene cache\n",
    "* Cortex M (Microcontroladores Simples y baratos)\n",
    "    * Cortex M0/M0+ (Bajo consumo)\n",
    "    * Cortex M3/M4/M7 (van creciendo en cuanto a funcioanlidades)\n",
    "    \n",
    "    \n"
   ]
  },
  {
   "cell_type": "markdown",
   "id": "fac5ae4d",
   "metadata": {},
   "source": [
    "# Cortex M\n"
   ]
  },
  {
   "cell_type": "markdown",
   "id": "e0d0da39",
   "metadata": {},
   "source": [
    "1. Describa brevemente las diferencias entre las familias de procesadores Cortex M0, M3 y \n",
    "M4.\n",
    "\n",
    "De menor a mayor M0 es el menor de los cortex, tenemos M0 y M0+ estos son la linea más chica de procesadores cortex \n",
    "Ambos son arquitecturas ARMV6 vs ARMV7 que son los M3 y M4. Son procesadores de bajo costo. Los Cortex M0 y M0+ son arquitecturas Von Neumann\n",
    " \n",
    "\n",
    "M3 y M4 son los procesadores de 32 bits standares utilizados en sistemas embebidos. \n",
    "Cortex M4 es un cortex M3 con el agreado de instrucciones de DSP. Algunos M4 ademas traen la posibilidad de incorporar una unidad de punto flotante (FPU), llamados Cortex M4F. Los COrtex M3 y M4 tienen arquitectura Hardvard\n",
    "\n",
    "<img src=\"Comparativa.jpg\"  align=\"center\"/>\n",
    "\n",
    "Fuente: Wikipedia: https://en.wikipedia.org/wiki/ARM_Cortex-M\n",
    "\n",
    "\n",
    "\n"
   ]
  },
  {
   "cell_type": "markdown",
   "id": "e4a6286f",
   "metadata": {},
   "source": [
    "2. ¿Por qué se dice que el set de instrucciones Thumb permite mayor densidad de código? \n",
    "Explique\n"
   ]
  },
  {
   "cell_type": "markdown",
   "id": "70bf71c3",
   "metadata": {},
   "source": [
    "3. ¿Qué entiende por arquitectura load-store? ¿Qué tipo de instrucciones no posee este \n",
    "tipo de arquitectura?"
   ]
  },
  {
   "cell_type": "markdown",
   "id": "ff953ce9",
   "metadata": {},
   "source": [
    "4. ¿Cómo es el mapa de memoria de la familia? "
   ]
  },
  {
   "cell_type": "markdown",
   "id": "9c69d78c",
   "metadata": {},
   "source": [
    "5. ¿Qué ventajas presenta el uso de los “shadowed pointers” del PSP y el MSP?\n"
   ]
  },
  {
   "cell_type": "markdown",
   "id": "5a722aa3",
   "metadata": {},
   "source": [
    "6. Describa los diferentes modos de privilegio y operación del Cortex M, sus relaciones y \n",
    "como se conmuta de uno al otro. Describa un ejemplo en el que se pasa del modo \n",
    "privilegiado a no priviligiado y nuevamente a privilegiado.\n"
   ]
  },
  {
   "cell_type": "markdown",
   "id": "4ae1f5da",
   "metadata": {},
   "source": [
    "7. ¿Qué se entiende por modelo de registros ortogonal? Dé un ejemplo\n"
   ]
  },
  {
   "cell_type": "markdown",
   "id": "c8581aae",
   "metadata": {},
   "source": [
    "8. ¿Qué ventajas presenta el uso de intrucciones de ejecución condicional (IT)? Dé un \n",
    "ejemplo\n"
   ]
  },
  {
   "cell_type": "markdown",
   "id": "29a2eb62",
   "metadata": {},
   "source": [
    "9. Describa brevemente las excepciones más prioritarias (reset, NMI, Hardfault). \n"
   ]
  },
  {
   "cell_type": "markdown",
   "id": "dcef23b3",
   "metadata": {},
   "source": [
    "10. Describa las funciones principales de la pila. ¿Cómo resuelve la arquitectura el llamado \n",
    "a funciones y su retorno?"
   ]
  },
  {
   "cell_type": "markdown",
   "id": "074a0957",
   "metadata": {},
   "source": [
    "11. Describa la secuencia de reset del microprocesador. \n"
   ]
  },
  {
   "cell_type": "markdown",
   "id": "3b9120b9",
   "metadata": {},
   "source": [
    "12. ¿Qué entiende por “core peripherals”? ¿Qué diferencia existe entre estos y el resto de \n",
    "los periféricos?"
   ]
  },
  {
   "cell_type": "markdown",
   "id": "e3558bce",
   "metadata": {},
   "source": [
    "13. ¿Cómo se implementan las prioridades de las interrupciones? Dé un ejemplo\n"
   ]
  },
  {
   "cell_type": "markdown",
   "id": "26e8390d",
   "metadata": {},
   "source": [
    "14. ¿Qué es el CMSIS? ¿Qué función cumple? ¿Quién lo provee? ¿Qué ventajas aporta?\n"
   ]
  },
  {
   "cell_type": "markdown",
   "id": "73f12537",
   "metadata": {},
   "source": [
    "15. Cuando ocurre una interrupción, asumiendo que está habilitada ¿Cómo opera el \n",
    "microprocesador para atender a la subrutina correspondiente? Explique con un ejemplo"
   ]
  },
  {
   "cell_type": "markdown",
   "id": "f76d813d",
   "metadata": {},
   "source": [
    "16. Explique las características avanzadas de atención a interrupciones: tail chaining y late \n",
    "arrival."
   ]
  },
  {
   "cell_type": "markdown",
   "id": "b5b99314",
   "metadata": {},
   "source": [
    "17. ¿Cómo cambia la operación de stacking al utilizar la unidad de punto flotante? "
   ]
  },
  {
   "cell_type": "markdown",
   "id": "48a37dec",
   "metadata": {},
   "source": [
    "17bis. ¿Qué es el systick? ¿Por qué puede afirmarse que su implementación favorece la \n",
    "portabilidad de los sistemas operativos embebidos?\n"
   ]
  },
  {
   "cell_type": "markdown",
   "id": "2d5eb9f5",
   "metadata": {},
   "source": [
    "18. ¿Qué funciones cumple la unidad de protección de memoria (MPU)? \n"
   ]
  },
  {
   "cell_type": "markdown",
   "id": "b5a59a73",
   "metadata": {},
   "source": [
    "19. ¿Cuántas regiones pueden configurarse como máximo? ¿Qué ocurre en caso de haber \n",
    "solapamientos de las regiones? ¿Qué ocurre con las zonas de memoria no cubiertas por las \n",
    "regiones definidas?"
   ]
  },
  {
   "cell_type": "markdown",
   "id": "7002e05d",
   "metadata": {},
   "source": [
    "20. ¿Para qué se suele utilizar la excepción PendSV? ¿Cómo se relaciona su uso con el resto \n",
    "de las excepciones? Dé un ejemplo"
   ]
  },
  {
   "cell_type": "markdown",
   "id": "ea2456b7",
   "metadata": {},
   "source": [
    "21. ¿Para qué se suele utilizar la excepción SVC? Expliquelo dentro de un marco de un \n",
    "sistema operativo embebido.\n"
   ]
  },
  {
   "cell_type": "markdown",
   "id": "3acd54b7",
   "metadata": {},
   "source": [
    "# ISA"
   ]
  },
  {
   "cell_type": "markdown",
   "id": "0b15e3f6",
   "metadata": {},
   "source": [
    "1. ¿Qué son los sufijos y para qué se los utiliza? Dé un ejemplo\n"
   ]
  },
  {
   "cell_type": "markdown",
   "id": "4c3253e6",
   "metadata": {},
   "source": [
    "2. ¿Para qué se utiliza el sufijo ‘s’? Dé un ejemplo\n"
   ]
  },
  {
   "cell_type": "markdown",
   "id": "f66420c3",
   "metadata": {},
   "source": [
    "3. ¿Qué utilidad tiene la implementación de instrucciones de aritmética saturada? Dé un \n",
    "ejemplo con operaciones con datos de 8 bits"
   ]
  },
  {
   "cell_type": "markdown",
   "id": "8cc8f6b2",
   "metadata": {},
   "source": [
    "4. Describa brevemente la interfaz entre assembler y C ¿Cómo se reciben los argumentos \n",
    "de las funciones? ¿Cómo se devuelve el resultado? ¿Qué registros deben guardarse en la \n",
    "pila antes de ser modificados?"
   ]
  },
  {
   "cell_type": "markdown",
   "id": "b0f75333",
   "metadata": {},
   "source": [
    "5. ¿Qué es una instrucción SIMD? ¿En qué se aplican y que ventajas reporta su uso? Dé un \n",
    "ejemplo"
   ]
  }
 ],
 "metadata": {
  "kernelspec": {
   "display_name": "Python 3 (ipykernel)",
   "language": "python",
   "name": "python3"
  },
  "language_info": {
   "codemirror_mode": {
    "name": "ipython",
    "version": 3
   },
   "file_extension": ".py",
   "mimetype": "text/x-python",
   "name": "python",
   "nbconvert_exporter": "python",
   "pygments_lexer": "ipython3",
   "version": "3.9.7"
  }
 },
 "nbformat": 4,
 "nbformat_minor": 5
}
