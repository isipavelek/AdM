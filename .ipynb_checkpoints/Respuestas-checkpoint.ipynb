{
 "cells": [
  {
   "cell_type": "markdown",
   "id": "53f320b8",
   "metadata": {},
   "source": [
    "<img src=\"LSE.png\" width=\"150\" height=\"150\" align=\"right\"/>\n",
    "\n",
    "<center> <b> <font size=5> Arquitectura de Microprocesadores <br>\n",
    "Carrera de Especialización en Sistemas Embebidos <br> Universidad de Buenos Aires </font></b> </center>\n",
    "\n",
    "\n",
    "<br><br>\n",
    "\n",
    "**Alumno:** Ing. Pavelek Israel \\\n",
    "**Docente:** Mg. Ing. Santiago Germino\n"
   ]
  },
  {
   "cell_type": "markdown",
   "id": "e7955142",
   "metadata": {},
   "source": [
    "1.Describa brevemente los diferentes perfiles de familias de microprocesadores/microcontroladores de ARM. Explique alguna de sus diferencias características.\n",
    "\n",
    "* Cortex A (aplicaciones)- Tiene Memoria Cache\n",
    "* Cortex R (Real Time) - No tiene cache\n",
    "* Cortex M (Microcontroladores Simples y baratos)\n",
    "    * Cortex M0/M0+ (Bajo consumo)\n",
    "    * Cortex M3/M4/M7 (van creciendo en cuanto a funcioanlidades)\n",
    "    \n",
    "    \n"
   ]
  },
  {
   "cell_type": "markdown",
   "id": "fac5ae4d",
   "metadata": {},
   "source": [
    "# Cortex M\n"
   ]
  },
  {
   "cell_type": "markdown",
   "id": "e0d0da39",
   "metadata": {},
   "source": [
    "1. Describa brevemente las diferencias entre las familias de procesadores Cortex M0, M3 y \n",
    "M4.\n",
    "\n",
    "De menor a mayor M0 es el menor de los cortex, tenemos M0 y M0+ estos son la linea más chica de procesadores cortex \n",
    "Ambos son arquitecturas ARMV6 vs ARMV7 que son los M3 y M4. Son procesadores de bajo costo. Los Cortex M0 y M0+ son arquitecturas Von Neumann\n",
    " \n",
    "\n",
    "M3 y M4 son los procesadores de 32 bits standares utilizados en sistemas embebidos. \n",
    "Cortex M4 es un cortex M3 con el agreado de instrucciones de DSP. Algunos M4 ademas traen la posibilidad de incorporar una unidad de punto flotante (FPU), llamados Cortex M4F. Los COrtex M3 y M4 tienen arquitectura Hardvard\n",
    "\n",
    "<img src=\"Comparativa.jpg\"  align=\"center\"/>\n",
    "\n",
    "Fuente: Wikipedia: https://en.wikipedia.org/wiki/ARM_Cortex-M\n",
    "\n",
    "\n",
    "\n"
   ]
  },
  {
   "cell_type": "markdown",
   "id": "e4a6286f",
   "metadata": {},
   "source": [
    "2. ¿Por qué se dice que el set de instrucciones Thumb permite mayor densidad de código? Explique\n",
    "\n",
    "Thumb utiliza instrucciones de longitud fija de 16 bits en lugar de las instrucciones de longitud variable de 32 bits de ARM. Esto permite una mayor densidad de código, ya que las instrucciones Thumb ocupan la mitad del espacio de las instrucciones ARM. \n",
    "\n",
    "Es importante tener en cuenta que Thumb logra una mayor densidad de código sacrificando cierta funcionalidad y flexibilidad en comparación con ARM. Algunas instrucciones más complejas y específicas de ARM no están disponibles en Thumb. Sin embargo, en muchos casos, la ganancia en densidad de código y rendimiento supera las limitaciones de funcionalidad.\n"
   ]
  },
  {
   "cell_type": "markdown",
   "id": "70bf71c3",
   "metadata": {},
   "source": [
    "3. ¿Qué entiende por arquitectura load-store? ¿Qué tipo de instrucciones no posee este tipo de arquitectura?\n",
    "\n",
    "La arquitectura load-store, esta referido a que para poder acceder a los datos en memoria, se deben si o si cargar dichos datos en los registros para luego poder procesarolos. No existen (como si en otros procesadores) instruccciones con modo de direccionamiento de memoria a memoria. Si se quiere acceder a un dato en memoria, se hace cargando indirectamente (indexado a traves de un registro) a los datos en memoria para luego ser procesados.\n"
   ]
  },
  {
   "cell_type": "markdown",
   "id": "ff953ce9",
   "metadata": {},
   "source": [
    "4. ¿Cómo es el mapa de memoria de la familia? \n",
    "\n",
    "El mapa de memoria de un microcontrolador/microconprocesador es el que indica en que sección de la memoria esta cada parte, en que lugar y dirección se encuentra la memoria del tipo volatil la no volatil, los registros para el manejo de los modulos internos, el vector de interrupciones, y cada sección alojada en algun lugar de la memoria. Cada microcontrolador posee su propio mapa de memoria de acuerdo a donde aloje el fabricante cada sección."
   ]
  },
  {
   "cell_type": "markdown",
   "id": "9c69d78c",
   "metadata": {},
   "source": [
    "5. ¿Qué ventajas presenta el uso de los “shadowed pointers” del PSP y el MSP?\n",
    "\n",
    "Mejora de la seguridad: Los “shadowed pointers” permiten tener copias de seguridad de los punteros PSP y MSP en registros adicionales. Esto ayuda a prevenir cambios no autorizados en los punteros y proporciona un mecanismo de protección contra ataques maliciosos, como desbordamientos de pila o manipulación de punteros.\n",
    "\n",
    "Cambio rápido de contexto: Al utilizar “shadowed pointers”, el cambio entre contextos de ejecución se puede realizar de manera más eficiente. Los punteros PSP y MSP se utilizan para manejar las pilas de proceso y la pila principal respectivamente. El uso de punteros sombreados permite cambiar rápidamente entre las pilas, lo que es crucial en entornos de tiempo real donde se requiere una conmutación de tareas rápida y eficiente.\n",
    "\n",
    "Ahorro de tiempo de ejecución: Los punteros sombreados permiten acceder a los punteros PSP y MSP directamente desde registros adicionales en lugar de acceder a la memoria principal. Esto reduce la latencia de acceso y mejora el rendimiento general del sistema, especialmente en operaciones que requieren un acceso frecuente a los punteros.\n",
    "\n"
   ]
  },
  {
   "cell_type": "markdown",
   "id": "5a722aa3",
   "metadata": {},
   "source": [
    "6. Describa los diferentes modos de privilegio y operación del Cortex M, sus relaciones y como se conmuta de uno al otro. Describa un ejemplo en el que se pasa del modo privilegiado a no priviligiado y nuevamente a privilegiado.\n",
    "\n",
    "\n",
    "Se utiliza un modelo de privilegios y modos de operación en Cortex M para garantizar la protección y el control del sistema. Estos modos de privilegio son:\n",
    "\n",
    "Thread Mode: Es el modo principal de operación y se utiliza para la ejecución normal del código de la aplicación. En este modo, el procesador tiene acceso completo a todas las instrucciones y recursos del sistema.\n",
    "\n",
    "Handler Mode: Este modo se utiliza para manejar las excepciones y las interrupciones del sistema. Los manejadores de interrupciones y excepciones se ejecutan en este modo, que tiene acceso completo a los recursos del sistema y puede realizar tareas críticas.\n",
    "\n",
    "User Mode: Es el modo de menor privilegio y se utiliza para ejecutar código no confiable o no privilegiado. En este modo, el acceso a ciertas instrucciones y recursos está restringido para garantizar la seguridad y protección del sistema.\n",
    "\n",
    "La conmutación entre estos modos de privilegio se realiza mediante el uso de instrucciones especiales llamadas \"Cambios de Modo\" (Mode Switches) o mediante el manejo de excepciones y eventos. Por ejemplo, cuando se produce una interrupción, el procesador cambia del modo de privilegio de thread al modo de privilegio de handler para manejar la interrupción. Una vez que se completa el manejo de la interrupción, el procesador vuelve al modo de privilegio de thread.\n",
    "\n",
    "Un ejemplo de conmutación de modo de privilegio podría ser el siguiente: Supongamos que el procesador se encuentra en el modo de privilegio de thread ejecutando código de una aplicación. Luego, se produce una interrupción. El procesador realiza un cambio de modo de privilegio de thread a modo de privilegio de handler para atender la interrupción. En el modo de privilegio de handler, se ejecuta el código del manejador de interrupciones para manejar la interrupción de manera adecuada. Una vez finalizado el manejo de la interrupción, el procesador realiza un cambio de modo de privilegio de handler a modo de privilegio de thread, y la ejecución continúa desde el punto donde se interrumpió, en el modo de privilegio de hilo."
   ]
  },
  {
   "cell_type": "markdown",
   "id": "4ae1f5da",
   "metadata": {},
   "source": [
    "7. ¿Qué se entiende por modelo de registros ortogonal? Dé un ejemplo\n",
    "\n",
    "El modelo de registro ortogonal se refiere a que es indistinto con que registro de propositos generales se realizan las diferentes operaciones. No hay instrucciones que dependan de devolver el resultaod en un registro particular.\n"
   ]
  },
  {
   "cell_type": "markdown",
   "id": "c8581aae",
   "metadata": {},
   "source": [
    "8. ¿Qué ventajas presenta el uso de intrucciones de ejecución condicional (IT)? Dé un ejemplo\n",
    "\n",
    "Reducción de saltos condicionales: Las instrucciones IT permiten ejecutar una secuencia de instrucciones condicionalmente, basándose en una condición específica. Esto evita la necesidad de realizar saltos condicionales explícitos, lo que ahorra ciclos de CPU y reduce la complejidad del código.\n",
    "\n",
    "Mejora de la densidad de código: Al reducir la necesidad de saltos condicionales, las instrucciones IT permiten una mayor densidad de código al igual que pasó con el modo Thumb que hemos mencionado anterioremente. Al tener menos instrucciones de salto y ramificación, el código se vuelve más compacto y ocupa menos espacio de memoria, lo que puede ser especialmente beneficioso en sistemas con restricciones de memoria.\n",
    "\n",
    "\n",
    "Un ejemplo de uso de instrucciones IT sería el siguiente:\n",
    "\n",
    "    cmp r0, #10       ; Compara el valor en r0 con el número 10\n",
    "    addge r1, r1, r0  ; Suma el valor en r0 al registro r1 si la comparación fue mayor o igual\n",
    "    sublt r2, r2, r0  ; Resta el valor en r0 al registro r2 si la comparación fue menor\n",
    "\n",
    "En este ejemplo, se realiza una comparación entre el valor en el registro r0 y el número 10. Si la comparación indica que el valor en r0 es mayor o igual a 10, se ejecuta la instrucción \"addge\" para sumar el valor en r0 al registro r1. Por otro lado, si la comparación indica que el valor en r0 es menor que 10, se ejecuta la instrucción \"sublt\" para restar el valor en r0 al registro r2."
   ]
  },
  {
   "cell_type": "markdown",
   "id": "29a2eb62",
   "metadata": {},
   "source": [
    "9. Describa brevemente las excepciones más prioritarias (reset, NMI, Hardfault). \n",
    "\n",
    "Las excepciones más prioritarias en la arquitectura ARM Cortex-M son:\n",
    "\n",
    "Reset: La excepción de Reset es la más prioritaria y ocurre cuando el microcontrolador se enciende o se reinicia. Es la primera excepción que se maneja y se utiliza para restablecer el sistema a un estado conocido. Durante esta excepción, se inicializan los registros y se configuran los periféricos esenciales antes de pasar al modo de ejecución normal.\n",
    "\n",
    "NMI (Non-Maskable Interrupt): La excepción NMI es de alta prioridad y no se puede deshabilitar o enmascarar. Se utiliza para eventos críticos que requieren una respuesta inmediata, como fallas de hardware o señales externas urgentes. La excepción NMI se maneja antes de cualquier otra interrupción y se utiliza para realizar acciones de recuperación o para tomar medidas de seguridad necesarias.\n",
    "\n",
    "HardFault: La excepción HardFault es generada por errores graves y críticos durante la ejecución del código, como violaciones de acceso a memoria, divisiones por cero o instrucciones no válidas. Esta excepción tiene una prioridad alta y se maneja automáticamente. El HardFault indica un estado del sistema no recuperable y generalmente requiere una depuración y solución de problemas exhaustiva para corregir el problema subyacente.\n"
   ]
  },
  {
   "cell_type": "markdown",
   "id": "dcef23b3",
   "metadata": {},
   "source": [
    "10. Describa las funciones principales de la pila. ¿Cómo resuelve la arquitectura el llamado a funciones y su retorno?\n",
    "\n",
    "La pila (Stack) se utiliza generalmente para el amacenado de los registros cuando vamos de una función a la otra. Al llegar a una función el programador deberá cargar en la pila (mediante la instrucción PUSH) los registros que va a utilizar, y antes de retornar deberá realizar el POP. De esta manera los registros, al volver de una función, se mantienen con los valores que tenian previamente a la invocación a la función.\n",
    "\n",
    "Hay que tener cuidado con el desborde del stack ya que hacerlo crecer desmedidamente puede hacer que comienze a pisar datos de otros sectores de memoria.\n",
    "\n",
    "Recordar que el stack es una memoria del tipo LIFO (last input-first output).\n",
    "\n",
    "En la llamada a una subrutina el PC (program counter) es copiado en el LR (link register) para luego poder retornar a donde estaba.\n",
    "En el siguiente ejemplo al invocar a BL se guarda en el LR el PC y es retornado con BX\n",
    "\n",
    "Ejemplo:\n",
    "\n",
    "comienzo:   MOV     r0, #10\n",
    "            MOV     r1, #3\n",
    "            BL      sumar  \n",
    "loop:       B       loop\n",
    "\n",
    ";rutina que suma r0+r1+5\n",
    "\n",
    "sumar:      PUSH    {r4}\n",
    "            MOV     r4,#5\n",
    "            ADD     r0,r0,r4\n",
    "            ADD     r0,r0,r1    \n",
    "            POP     {r4}\n",
    "            BX      lr            \n",
    "        "
   ]
  },
  {
   "cell_type": "markdown",
   "id": "074a0957",
   "metadata": {},
   "source": [
    "11. Describa la secuencia de reset del microprocesador. \n",
    "\n",
    "La secuencia de reset es un proceso específico para iniciar el sistema en un estado conocido. La secuencia consta de los siguiente pasos:\n",
    "\n",
    "Alimentación o reinicio: El proceso de reset comienza cuando el microprocesador se alimenta por primera vez o se reinicia.\n",
    "\n",
    "Inicialización del sistema: En este paso, se ejecuta el hardware específico del microcontrolador para configurar los periféricos esenciales, como el reloj y la memoria. Se establecen las condiciones iniciales para garantizar un funcionamiento adecuado del sistema.\n",
    "\n",
    "Vector de reset: El microprocesador carga la dirección del vector de reset, que es una dirección fija en la memoria donde se encuentra la primera instrucción a ejecutar después del reset. Esta dirección generalmente está ubicada en la posición de memoria más baja.\n",
    "\n",
    "Inicio del programa: El microprocesador comienza la ejecución del programa desde la dirección del vector de reset. El código ubicado en esa dirección inicializa los registros y la pila, y realiza otras tareas necesarias para poner el sistema en funcionamiento.\n",
    "\n",
    "Configuración de interrupciones: Después de la inicialización, se configuran las interrupciones necesarias según los requisitos del sistema. Esto permite que el microprocesador responda a eventos externos o internos importantes mediante interrupciones.\n",
    "\n",
    "Transición al modo de ejecución normal: Una vez completada la inicialización y la configuración, el microprocesador pasa al modo de ejecución normal, también conocido como modo de privilegio de thread."
   ]
  },
  {
   "cell_type": "markdown",
   "id": "3b9120b9",
   "metadata": {},
   "source": [
    "12. ¿Qué entiende por “core peripherals”? ¿Qué diferencia existe entre estos y el resto de los periféricos?\n",
    "\n",
    "Los \"core peripherals\" (periféricos internos) son componentes integrados dentro del propio núcleo del procesador. Estos periféricos son esenciales para el funcionamiento básico del procesador y son comunes a todos los dispositivos Cortex-M, independientemente del fabricante o modelo específico.\n",
    "\n",
    "Entre los core peripherals estan:\n",
    "\n",
    "Nested Vectored Interrupt Controller (NVIC): Controlador de interrupciones utilizado para gestionar y priorizar las interrupciones en el sistema.\n",
    "\n",
    "System Control Block (SCB): Bloque de control del sistema que gestiona aspectos como el estado del procesador, excepciones y manejo de memoria.\n",
    "\n",
    "SysTick Timer: Temporizador de sistema utilizado para generar interrupciones periódicas y proporcionar una referencia de tiempo para el sistema.\n",
    "\n",
    "Debug and Trace Unit: Unidad de depuración y rastreo que facilita la depuración y el monitoreo del código en tiempo real.\n",
    "\n",
    "Memory Protection Unit (MPU): Unidad de protección de memoria utilizada para establecer regiones de memoria con permisos de acceso específicos y aumentar la seguridad del sistema.\n",
    "\n",
    "La principal diferencia entre los core peripherals y el resto de los periféricos es que los core peripherals están integrados directamente en el núcleo del procesador y son comunes a todos los dispositivos Cortex-M, mientras que los periféricos externos son componentes adicionales conectados al procesador para ampliar su funcionalidad."
   ]
  },
  {
   "cell_type": "markdown",
   "id": "e3558bce",
   "metadata": {},
   "source": [
    "13. ¿Cómo se implementan las prioridades de las interrupciones? Dé un ejemplo\n",
    "\n",
    "El NVIC (Nested Vectored Interrupt Controller) asigna niveles de prioridad a cada una de las interrupciones y maneja la ejución y la priorización de las mismas.\n",
    "\n",
    "El NVIC utiliza un sistema de prioridad basado en niveles, donde cada interrupción se asigna a un nivel de prioridad específico. Los niveles de prioridad se dividen en grupos predefinidos, donde un grupo tiene un número determinado de niveles de prioridad. \n",
    "\n",
    "Un ejemplo seria:\n",
    "\n"
   ]
  },
  {
   "cell_type": "markdown",
   "id": "26e8390d",
   "metadata": {},
   "source": [
    "14. ¿Qué es el CMSIS? ¿Qué función cumple? ¿Quién lo provee? ¿Qué ventajas aporta?\n",
    "\n",
    "CMSIS (Cortex Microcontroller Software Interface Standard) es una capa de abstracción brindada por ARM, para poder acceder al procesador, a los perisféricos (modulos), sistema operativo en tiempo real, y software intermedio. Lo importante es que no depende del fabricante del microcontrolador y hace que nuestro código sea más facil de portar en caso de tener que pasar a otro microcontrolador. \n",
    "\n",
    "Existe tambien una biblioteca llamada CMSIS-DSP que brinda una interfaz muy interesante con funciones para implementaciónes de filtros digitales."
   ]
  },
  {
   "cell_type": "markdown",
   "id": "73f12537",
   "metadata": {},
   "source": [
    "15. Cuando ocurre una interrupción, asumiendo que está habilitada ¿Cómo opera el microprocesador para atender a la subrutina correspondiente? Explique con un ejemplo\n",
    "\n",
    "Los pasos para atender a la subrutina de interrupción son los siguientes:\n",
    "\n",
    "Reconocimiento de la interrupción: El microprocesador detecta la señal de interrupción generada por un evento externo o interno, y el control se transfiere al controlador de interrupciones (NVIC).\n",
    "\n",
    "Priorización de la interrupción: El NVIC determina la prioridad de la interrupción (segun lo explicado en la respuesta 13)\n",
    "\n",
    "Almacenamiento del contexto actual: Antes de saltar a la subrutina de interrupción, el microprocesador almacena el contexto actual en la pila, lo que incluye el estado de los registros y la dirección de retorno.\n",
    "\n",
    "Salto a la subrutina de interrupción: El microprocesador salta a la dirección de inicio de la subrutina de interrupción correspondiente, que se encuentra en la tabla de vectores de interrupción. Esta tabla contiene las direcciones de inicio de las subrutinas de interrupción asociadas a cada evento de interrupción.\n",
    "\n",
    "Ejecución de la subrutina de interrupción: El microprocesador ejecuta la subrutina de interrupción específica para el evento que generó la interrupción. Esta subrutina maneja las tareas necesarias para atender la interrupción, como actualizar datos, realizar operaciones específicas o responder al evento externo.\n",
    "\n",
    "Restauración del contexto previo: Una vez finalizada la subrutina de interrupción, el microprocesador restaura el contexto previo almacenado en la pila. Esto implica recuperar los registros y la dirección de retorno antes de la interrupción.\n",
    "\n",
    "Retorno de la interrupción: El microprocesador retorna a la instrucción siguiente a la que estaba ejecutando antes de producirse la interrupción. Esto permite que el programa principal continúe su ejecución normalmente.\n",
    "\n",
    "\n",
    "Ejemplo:\n",
    "\n",
    "Supongamos que un microcontrolador Cortex-M tiene una interrupción externa asociada a un botón. Cuando se presiona el botón, se genera una señal de interrupción. El procesador reconoce la interrupción, guarda el contexto actual, salta a la subrutina de interrupción y ejecuta el código asociado. En la subrutina de interrupción, se pueden realizar acciones específicas, como leer el estado del botón, actualizar variables o activar otros periféricos. Una vez finalizada la subrutina de interrupción, se restaura el contexto previo y el procesador regresa a la instrucción siguiente a la que estaba ejecutando antes de la interrupción, continuando con el programa principal.\n"
   ]
  },
  {
   "cell_type": "markdown",
   "id": "f76d813d",
   "metadata": {},
   "source": [
    "16. Explique las características avanzadas de atención a interrupciones: tail chaining y late arrival.\n",
    "\n"
   ]
  },
  {
   "cell_type": "markdown",
   "id": "b5b99314",
   "metadata": {},
   "source": [
    "17. ¿Cómo cambia la operación de stacking al utilizar la unidad de punto flotante? \n",
    "\n"
   ]
  },
  {
   "cell_type": "markdown",
   "id": "48a37dec",
   "metadata": {},
   "source": [
    "17bis. ¿Qué es el systick? ¿Por qué puede afirmarse que su implementación favorece la portabilidad de los sistemas operativos embebidos?\n",
    "\n",
    "Systick es el timer que utilizan los sistemas operativos, aunque pueden trabajar con otros timers, como base para sun funcionamiento. Basta con saber que una de las funciones básicas del un sistema operativo es la capacidad de conmutar tareas, y esto generalmente lo hace el dispatcher a travez del scheduler, que tiempo a tiempo analiza el cambio o no de tarea de acuerdo a prioridades, bloqueos etc.\n",
    "\n",
    "El SysTick es un temporizador de sistema integrado en la mayoría de los microcontroladores. Se utiliza comúnmente como un temporizador de cuenta regresiva y como un generador de interrupciones periódicas. Favorece la portabilidad porque es un recurso que poseen la gran mayoria de los microcontroladores"
   ]
  },
  {
   "cell_type": "markdown",
   "id": "2d5eb9f5",
   "metadata": {},
   "source": [
    "18. ¿Qué funciones cumple la unidad de protección de memoria (MPU)? \n",
    "\n",
    "Permite establecer políticas de protección y seguridad para la memoria y otros recursos del sistema. La MPU puede dividir la memoria en diferentes regiones y asignar permisos de acceso a cada una de ellas. De esta manera, se pueden prevenir accesos no autorizados a regiones críticas del sistema, proteger los datos del usuario y evitar que se corrompa la memoria."
   ]
  },
  {
   "cell_type": "markdown",
   "id": "b5a59a73",
   "metadata": {},
   "source": [
    "19. ¿Cuántas regiones pueden configurarse como máximo? ¿Qué ocurre en caso de haber solapamientos de las regiones? ¿Qué ocurre con las zonas de memoria no cubiertas por las regiones definidas?\n",
    "\n",
    "La mayoría de los dispositivos admiten al menos ocho regiones de memoria, aunque algunos modelos avanzados pueden soportar más. Es importante evitar solapamientos entre las regiones definidas para asegurar un comportamiento coherente y predecible del sistema. Las zonas de memoria no cubiertas por las regiones definidas quedan sin protección y se pueden acceder sin restricciones. Los desarrolladores deben asegurarse de configurar y utilizar correctamente estas zonas de memoria no cubiertas. Es recomendable consultar la documentación del fabricante para obtener información precisa sobre el número máximo de regiones admitidas y el comportamiento en casos de solapamientos o zonas no cubiertas."
   ]
  },
  {
   "cell_type": "markdown",
   "id": "7002e05d",
   "metadata": {},
   "source": [
    "20. ¿Para qué se suele utilizar la excepción PendSV? ¿Cómo se relaciona su uso con el resto de las excepciones? Dé un ejemplo\n"
   ]
  },
  {
   "cell_type": "markdown",
   "id": "ea2456b7",
   "metadata": {},
   "source": [
    "21. ¿Para qué se suele utilizar la excepción SVC? Expliquelo dentro de un marco de un sistema operativo embebido.\n",
    "\n",
    "La excepción SVC (Supervisor Call) se utiliza en sistemas operativos embebidos basados en Cortex-M para permitir que las aplicaciones realicen llamadas al sistema y soliciten servicios al kernel del sistema operativo. Cuando se produce esta excepción, el microprocesador salta a una rutina de atención específica, conocida como \"handler\" de excepción SVC. El kernel del sistema operativo examina el número o código de servicio proporcionado en un registro específico para determinar qué servicio se solicita. A partir de esta información, el kernel realiza la operación solicitada y proporciona la respuesta adecuada. En resumen, la excepción SVC brinda a las aplicaciones una forma de interactuar con el kernel del sistema operativo y acceder a funcionalidades específicas proporcionadas por el sistema operativo."
   ]
  },
  {
   "cell_type": "markdown",
   "id": "3acd54b7",
   "metadata": {},
   "source": [
    "# ISA"
   ]
  },
  {
   "cell_type": "markdown",
   "id": "0b15e3f6",
   "metadata": {},
   "source": [
    "1. ¿Qué son los sufijos y para qué se los utiliza? Dé un ejemplo\n",
    "\n",
    "Los sufijos en las instrucciones ARM se utilizan para modificar su comportamiento. Por ejemplo, se pueden utilizar sufijos de condición, como ne (not equal) o eq (equal), para especificar bajo qué condición se ejecutará la instrucción. También existen sufijos que permiten actualizar las banderas de estado, como Z (zero), N (negative), V (overflow), C (carry), para indicar si las banderas deben ser modificadas después de la ejecución de la instrucción. Además, se utilizan sufijos de tamaño, como B (byte), H (halfword) o W (word), en instrucciones de carga y almacenamiento de datos, como LDR y STR, para indicar el tamaño de los datos a transferir."
   ]
  },
  {
   "cell_type": "markdown",
   "id": "4c3253e6",
   "metadata": {},
   "source": [
    "2. ¿Para qué se utiliza el sufijo ‘s’? Dé un ejemplo\n",
    "\n",
    "El agregar el sufijo 's' a un instrucción hace que la operación realizada refleje o no en los flags del APSR (Application Program Status Register\") las diferentes condiciones del resultado. Los bits son N,Z,C,V y Q. \n",
    "\n",
    "N: Bit de negativo, refleja el bit más significativo del resultado. 1 Resultado negativo. 0 No negativo.\n",
    "\n",
    "Z: Bit de Zero. Si vale 1 el resultado fue cero. 0 caso contrario (cualquier otro valor distinto). \n",
    "\n",
    "C: Valor de carry. 1 hubo acarreo.\n",
    "\n",
    "V: Overflow, indica si se rompio la regla de los signos, es decir al sumar dos números positivos el resultado dio negativo o al sumar dos números negativos el resultado dió positivo.\n",
    "\n",
    "Tanto Carry como overflow son indicadores que el resultado no entra en la cantidad de bits que se está implementando, pero el caso de overflow es utilizado en las operaciones con signo.\n",
    "\n",
    "Q:Indica si hubo saturación en las instrucciones de artimética saturada.\n",
    "\n",
    "**En el caso de ARM no, pero algunos procesadores poseen ademas el bit S que es el signo efectivo del resultado, no es más que la xor entre N y V.**\n",
    "\n"
   ]
  },
  {
   "cell_type": "markdown",
   "id": "f66420c3",
   "metadata": {},
   "source": [
    "3. ¿Qué utilidad tiene la implementación de instrucciones de aritmética saturada? Dé un ejemplo con operaciones con datos de 8 bits\n",
    "\n",
    "Las instrucciones de arimética saturada tienen como ventaja establecer un limite numérico para las operaciones aritméticas y en caso de pasarlo dejar el valor máximo. Si no se utilizaran lo que pasa que al desbordar en número en la cantidad de bits que se utiliza, se vuelve al valor mayor pero de signo contrario, siendo este el valor más alejado opuesto del valor que estabamos representando. En caso del procesamiento de señales es muy util cuando saturamos a una cantidad de bits y que, al excederse de dicho limite se quede en este valor como máximo valor. "
   ]
  },
  {
   "cell_type": "markdown",
   "id": "8cc8f6b2",
   "metadata": {},
   "source": [
    "4. Describa brevemente la interfaz entre assembler y C ¿Cómo se reciben los argumentos de las funciones? ¿Cómo se devuelve el resultado? ¿Qué registros deben guardarse en la pila antes de ser modificados?\n",
    "\n",
    "La ARM calling convention establece que cada argumento se va pasando en orden por los registros R0 a R3. Si hay más argumentos se pasan por el stack los excedentes. Los registros R4 a R11 se utilizan como variables locales dentro de la función pero deben ser guardados en el stack todos aquellos que se vayan a utilizar. En caso de tener que retornar algun parametro tambien lo hace a travez de R0 a R3\n"
   ]
  },
  {
   "cell_type": "markdown",
   "id": "b0f75333",
   "metadata": {},
   "source": [
    "5. ¿Qué es una instrucción SIMD? ¿En qué se aplican y que ventajas reporta su uso? Dé un ejemplo\n",
    "\n",
    "El uso de instrucciones SIMD en Cortex-M con la extensión Thumb-2 SIMD puede proporcionar ventajas en términos de rendimiento y eficiencia energética al procesar grandes conjuntos de datos de forma simultánea. Permite acelerar operaciones intensivas en datos, como procesamiento de imágenes, procesamiento de señales, compresión de datos y más.\n",
    "\n"
   ]
  },
  {
   "cell_type": "code",
   "execution_count": null,
   "id": "b2005a4c",
   "metadata": {},
   "outputs": [],
   "source": []
  }
 ],
 "metadata": {
  "kernelspec": {
   "display_name": "Python 3 (ipykernel)",
   "language": "python",
   "name": "python3"
  },
  "language_info": {
   "codemirror_mode": {
    "name": "ipython",
    "version": 3
   },
   "file_extension": ".py",
   "mimetype": "text/x-python",
   "name": "python",
   "nbconvert_exporter": "python",
   "pygments_lexer": "ipython3",
   "version": "3.10.9"
  }
 },
 "nbformat": 4,
 "nbformat_minor": 5
}
