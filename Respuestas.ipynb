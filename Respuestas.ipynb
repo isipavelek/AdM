{
 "cells": [
  {
   "cell_type": "markdown",
   "id": "849fb2d4",
   "metadata": {},
   "source": [
    "<img src=\"LSE.png\" width=\"150\" height=\"150\" align=\"right\"/>\n",
    "\n",
    "<center> <b> <font size=5> Arquitectura de Microprocesadores <br>\n",
    "Carrera de Especialización en Sistemas Embebidos Universidad de Buenos Aires </font></b> </center>\n",
    "\n",
    "\n",
    "<br><br>\n",
    "\n",
    "**Alumno:** Ing. Pavelek Israel \\\n",
    "**Docente:** Mg. Ing. Santiago Germino\n"
   ]
  },
  {
   "cell_type": "code",
   "execution_count": null,
   "id": "dc07dd27",
   "metadata": {},
   "outputs": [],
   "source": []
  },
  {
   "cell_type": "code",
   "execution_count": null,
   "id": "b4146bb0",
   "metadata": {},
   "outputs": [],
   "source": []
  }
 ],
 "metadata": {
  "kernelspec": {
   "display_name": "Python 3 (ipykernel)",
   "language": "python",
   "name": "python3"
  },
  "language_info": {
   "codemirror_mode": {
    "name": "ipython",
    "version": 3
   },
   "file_extension": ".py",
   "mimetype": "text/x-python",
   "name": "python",
   "nbconvert_exporter": "python",
   "pygments_lexer": "ipython3",
   "version": "3.9.7"
  }
 },
 "nbformat": 4,
 "nbformat_minor": 5
}
