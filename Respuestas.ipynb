{
 "cells": [
  {
   "cell_type": "markdown",
   "id": "506f71d2",
   "metadata": {},
   "source": [
    "<img src=\"https://lh6.googleusercontent.com/_3FkR8yM_W23x_PsSWDHmOwp9EfCmJAtMINTR6GLoXHiV7H1CK7YBRxDT9Ajo_JdjFzjG34tf5_SL1de_Wc0NqU=w16383\" width=\"150\" height=\"150\" align=\"right\"/>\n",
    "\n",
    "<center> <b> <font size=5> Arquitectura de Microprocesadores <br>\n",
    "Carrera de Especialización en Sistemas Embebidos Universidad de Buenos Aires </font></b> </center>\n",
    "\n",
    "\n",
    "<br><br>\n",
    "\n",
    "**Alumno:** Ing. Pavelek Israel \\\n",
    "**Docente:** Mg. Ing. Santiago Germino\n"
   ]
  },
  {
   "cell_type": "code",
   "execution_count": null,
   "id": "6fbab468",
   "metadata": {},
   "outputs": [],
   "source": []
  },
  {
   "cell_type": "code",
   "execution_count": null,
   "id": "964940ca",
   "metadata": {},
   "outputs": [],
   "source": []
  }
 ],
 "metadata": {
  "kernelspec": {
   "display_name": "Python 3 (ipykernel)",
   "language": "python",
   "name": "python3"
  },
  "language_info": {
   "codemirror_mode": {
    "name": "ipython",
    "version": 3
   },
   "file_extension": ".py",
   "mimetype": "text/x-python",
   "name": "python",
   "nbconvert_exporter": "python",
   "pygments_lexer": "ipython3",
   "version": "3.9.7"
  }
 },
 "nbformat": 4,
 "nbformat_minor": 5
}
