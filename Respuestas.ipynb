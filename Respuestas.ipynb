{
 "cells": [
  {
   "cell_type": "markdown",
   "id": "53f320b8",
   "metadata": {},
   "source": [
    "<img src=\"LSE.png\" width=\"150\" height=\"150\" align=\"right\"/>\n",
    "\n",
    "<center> <b> <font size=5> Arquitectura de Microprocesadores <br>\n",
    "Carrera de Especialización en Sistemas Embebidos <br> Universidad de Buenos Aires </font></b> </center>\n",
    "\n",
    "\n",
    "<br><br>\n",
    "\n",
    "**Alumno:** Ing. Pavelek Israel \\\n",
    "**Docente:** Mg. Ing. Santiago Germino\n"
   ]
  },
  {
   "cell_type": "markdown",
   "id": "e7955142",
   "metadata": {},
   "source": [
    "1.Describa brevemente los diferentes perfiles de familias de microprocesadores/microcontroladores de ARM. Explique alguna de sus diferencias características.\n",
    "\n",
    "* Cortex A (aplicaciones)- Tiene Memoria Cache\n",
    "* Cortex R (Real Time) - No tiene cache\n",
    "* Cortex M (Microcontroladores Simples y baratos)\n",
    "    * Cortex M0/M0+ (Bajo consumo)\n",
    "    * Cortex M3/M4/M7 (van creciendo en cuanto a funcioanlidades)\n",
    "    \n",
    "    \n"
   ]
  },
  {
   "cell_type": "markdown",
   "id": "fac5ae4d",
   "metadata": {},
   "source": [
    "# Cortex M\n"
   ]
  },
  {
   "cell_type": "markdown",
   "id": "e0d0da39",
   "metadata": {},
   "source": [
    "1. Describa brevemente las diferencias entre las familias de procesadores Cortex M0, M3 y \n",
    "M4.\n",
    "\n",
    "De menor a mayor M0 es el menor de los cortex, tenemos M0 y M0+ estos son la linea más chica de procesadores cortex \n",
    "Ambos son arquitecturas ARMV6 vs ARMV7 que son los M3 y M4. Son procesadores de bajo costo. Los Cortex M0 y M0+ son arquitecturas Von Neumann\n",
    " \n",
    "\n",
    "M3 y M4 son los procesadores de 32 bits standares utilizados en sistemas embebidos. \n",
    "Cortex M4 es un cortex M3 con el agreado de instrucciones de DSP. Algunos M4 ademas traen la posibilidad de incorporar una unidad de punto flotante (FPU), llamados Cortex M4F. Los COrtex M3 y M4 tienen arquitectura Hardvard\n",
    "\n",
    "<img src=\"Comparativa.jpg\"  align=\"center\"/>\n",
    "\n",
    "Fuente: Wikipedia: https://en.wikipedia.org/wiki/ARM_Cortex-M\n",
    "\n",
    "\n",
    "\n"
   ]
  },
  {
   "cell_type": "markdown",
   "id": "e4a6286f",
   "metadata": {},
   "source": [
    "2. ¿Por qué se dice que el set de instrucciones Thumb permite mayor densidad de código? \n",
    "Explique\n"
   ]
  },
  {
   "cell_type": "markdown",
   "id": "70bf71c3",
   "metadata": {},
   "source": [
    "3. ¿Qué entiende por arquitectura load-store? ¿Qué tipo de instrucciones no posee este tipo de arquitectura?\n",
    "\n",
    "La arquitectura load-store, esta referido a que para poder acceder a los datos en memoria, se deben si o si cargar dichos datos en los registros para luego poder procesarolos. No existen (como si en otros procesadores) instruccciones con modo de direccionamiento de memoria a memoria. Si se quiere acceder a un dato en memoria, se hace cargando indirectamente (indexado a traves de un registro) a los datos en memoria para luego ser procesados.\n"
   ]
  },
  {
   "cell_type": "markdown",
   "id": "ff953ce9",
   "metadata": {},
   "source": [
    "4. ¿Cómo es el mapa de memoria de la familia? \n",
    "\n",
    "El mapa de memoria de un microcontrolador/microconprocesador es el que indica en que sección de la memoria esta cada parte, en que lugar y dirección se encuentra la memoria del tipo volatil la no volatil, los registros para el manejo de los modulos internos, el vector de interrupciones, y cada sección alojada en algun lugar de la memoria. Cada microcontrolador posee su propio mapa de memoria de acuerdo a donde aloje el fabricante cada sección."
   ]
  },
  {
   "cell_type": "markdown",
   "id": "9c69d78c",
   "metadata": {},
   "source": [
    "5. ¿Qué ventajas presenta el uso de los “shadowed pointers” del PSP y el MSP?\n"
   ]
  },
  {
   "cell_type": "markdown",
   "id": "5a722aa3",
   "metadata": {},
   "source": [
    "6. Describa los diferentes modos de privilegio y operación del Cortex M, sus relaciones y \n",
    "como se conmuta de uno al otro. Describa un ejemplo en el que se pasa del modo \n",
    "privilegiado a no priviligiado y nuevamente a privilegiado.\n"
   ]
  },
  {
   "cell_type": "markdown",
   "id": "4ae1f5da",
   "metadata": {},
   "source": [
    "7. ¿Qué se entiende por modelo de registros ortogonal? Dé un ejemplo\n"
   ]
  },
  {
   "cell_type": "markdown",
   "id": "c8581aae",
   "metadata": {},
   "source": [
    "8. ¿Qué ventajas presenta el uso de intrucciones de ejecución condicional (IT)? Dé un \n",
    "ejemplo\n"
   ]
  },
  {
   "cell_type": "markdown",
   "id": "29a2eb62",
   "metadata": {},
   "source": [
    "9. Describa brevemente las excepciones más prioritarias (reset, NMI, Hardfault). \n"
   ]
  },
  {
   "cell_type": "markdown",
   "id": "dcef23b3",
   "metadata": {},
   "source": [
    "10. Describa las funciones principales de la pila. ¿Cómo resuelve la arquitectura el llamado a funciones y su retorno?\n",
    "\n",
    "La pila (Stack) se utiliza generalmente para el amacenado de los registros cuando vamos de una función a la otra. Al llegar a una función el programador deberá cargar en la pila (mediante la instrucción PUSH) los registros que va a utilizar, y antes de retornar deberá realizar el POP. De esta manera los registros, al volver de una función, se mantienen con los valores que tenian previamente a la invocación a la función.\n",
    "\n",
    "Hay que tener cuidado con el desborde del stack ya que hacerlo crecer desmedidamente puede hacer que comienze a pisar datos de otros sectores de memoria.\n",
    "\n",
    "Recordar que el stack es una memoria del tipo LIFO (last input-first output).\n",
    "\n",
    "En la llamada a una subrutina el PC (program counter) es copiado en el LR (link register) para luego poder retornar a donde estaba.\n",
    "En el siguiente ejemplo al invocar a BL se guarda en el LR el PC y es retornado con BX\n",
    "\n",
    "Ejemplo:\n",
    "\n",
    "comienzo:   MOV     r0, #10\n",
    "            MOV     r1, #3\n",
    "            BL      sumar  \n",
    "loop:       B       loop\n",
    "\n",
    ";rutina que suma r0+r1+5\n",
    "\n",
    "sumar:      PUSH    {r4}\n",
    "            MOV     r4,#5\n",
    "            ADD     r0,r0,r4\n",
    "            ADD     r0,r0,r1    \n",
    "            POP     {r4}\n",
    "            BX      lr            \n",
    "        "
   ]
  },
  {
   "cell_type": "markdown",
   "id": "074a0957",
   "metadata": {},
   "source": [
    "11. Describa la secuencia de reset del microprocesador. \n"
   ]
  },
  {
   "cell_type": "markdown",
   "id": "3b9120b9",
   "metadata": {},
   "source": [
    "12. ¿Qué entiende por “core peripherals”? ¿Qué diferencia existe entre estos y el resto de \n",
    "los periféricos?"
   ]
  },
  {
   "cell_type": "markdown",
   "id": "e3558bce",
   "metadata": {},
   "source": [
    "13. ¿Cómo se implementan las prioridades de las interrupciones? Dé un ejemplo\n"
   ]
  },
  {
   "cell_type": "markdown",
   "id": "26e8390d",
   "metadata": {},
   "source": [
    "14. ¿Qué es el CMSIS? ¿Qué función cumple? ¿Quién lo provee? ¿Qué ventajas aporta?\n",
    "\n",
    "CMSIS (Cortex Microcontroller Software Interface Standard) es una capa de abstracción brindada por ARM, para poder acceder al procesador, a los perisféricos (modulos), sistema operativo en tiempo real, y software intermedio. Lo importante es que no depende del fabricante del microcontrolador y hace que nuestro código sea más facil de portar en caso de tener que pasar a otro microcontrolador. \n",
    "\n",
    "Existe tambien una biblioteca llamada CMSIS-DSP que brinda una interfaz muy interesante con funciones para implementaciónes de filtros digitales."
   ]
  },
  {
   "cell_type": "markdown",
   "id": "73f12537",
   "metadata": {},
   "source": [
    "15. Cuando ocurre una interrupción, asumiendo que está habilitada ¿Cómo opera el microprocesador para atender a la subrutina correspondiente? Explique con un ejemplo"
   ]
  },
  {
   "cell_type": "markdown",
   "id": "f76d813d",
   "metadata": {},
   "source": [
    "16. Explique las características avanzadas de atención a interrupciones: tail chaining y late \n",
    "arrival."
   ]
  },
  {
   "cell_type": "markdown",
   "id": "b5b99314",
   "metadata": {},
   "source": [
    "17. ¿Cómo cambia la operación de stacking al utilizar la unidad de punto flotante? "
   ]
  },
  {
   "cell_type": "markdown",
   "id": "48a37dec",
   "metadata": {},
   "source": [
    "17bis. ¿Qué es el systick? ¿Por qué puede afirmarse que su implementación favorece la \n",
    "portabilidad de los sistemas operativos embebidos?\n",
    "\n",
    "Systick es el timer que utilizan los sistemas operativos, aunque pueden trabajar con otros timers, como base para sun fucnionamiento. Basta con saber que una de las funciones básicas del un sistema operativo es la capacidad de conmutar tareas, y esto generalmente lo hace el dispatcher a travez del scheduler, que tiempo a tiempo analiza el cambio o no de tarea de acuerdo a prioridades, bloqueos etc.\n",
    "\n",
    "\n"
   ]
  },
  {
   "cell_type": "markdown",
   "id": "2d5eb9f5",
   "metadata": {},
   "source": [
    "18. ¿Qué funciones cumple la unidad de protección de memoria (MPU)? \n"
   ]
  },
  {
   "cell_type": "markdown",
   "id": "b5a59a73",
   "metadata": {},
   "source": [
    "19. ¿Cuántas regiones pueden configurarse como máximo? ¿Qué ocurre en caso de haber \n",
    "solapamientos de las regiones? ¿Qué ocurre con las zonas de memoria no cubiertas por las \n",
    "regiones definidas?"
   ]
  },
  {
   "cell_type": "markdown",
   "id": "7002e05d",
   "metadata": {},
   "source": [
    "20. ¿Para qué se suele utilizar la excepción PendSV? ¿Cómo se relaciona su uso con el resto \n",
    "de las excepciones? Dé un ejemplo"
   ]
  },
  {
   "cell_type": "markdown",
   "id": "ea2456b7",
   "metadata": {},
   "source": [
    "21. ¿Para qué se suele utilizar la excepción SVC? Expliquelo dentro de un marco de un sistema operativo embebido.\n"
   ]
  },
  {
   "cell_type": "markdown",
   "id": "3acd54b7",
   "metadata": {},
   "source": [
    "# ISA"
   ]
  },
  {
   "cell_type": "markdown",
   "id": "0b15e3f6",
   "metadata": {},
   "source": [
    "1. ¿Qué son los sufijos y para qué se los utiliza? Dé un ejemplo\n"
   ]
  },
  {
   "cell_type": "markdown",
   "id": "4c3253e6",
   "metadata": {},
   "source": [
    "2. ¿Para qué se utiliza el sufijo ‘s’? Dé un ejemplo\n",
    "\n",
    "El agregar el sufijo 's' a un instrucción hace que la operación realizada refleje o no en los flags del APSR (Application Program Status Register\") las diferentes condiciones del resultado. Los bits son N,Z,C,V y Q. \n",
    "\n",
    "N: Bit de negativo, refleja el bit más significativo del resultado. 1 Resultado negativo. 0 No negativo.\n",
    "\n",
    "Z: Bit de Zero. Si vale 1 el resultado fue cero. 0 caso contrario (cualquier otro valor distinto). \n",
    "\n",
    "C: Valor de carry. 1 hubo acarreo.\n",
    "\n",
    "V: Overflow, indica si se rompio la regla de los signos, es decir al sumar dos números positivos el resultado dio negativo o al sumar dos números negativos el resultado dió positivo.\n",
    "\n",
    "Tanto Carry como overflow son indicadores que el resultado no entra en la cantidad de bits que se está implementando, pero el caso de overflow es utilizado en las operaciones con signo.\n",
    "\n",
    "Q:Indica si hubo saturación en las instrucciones de artimética saturada.\n",
    "\n",
    "**En el caso de ARM no, pero algunos procesadores poseen ademas el bit S que es el signo efectivo del resultado, no es más que la xor entre N y V.**\n",
    "\n"
   ]
  },
  {
   "cell_type": "markdown",
   "id": "f66420c3",
   "metadata": {},
   "source": [
    "3. ¿Qué utilidad tiene la implementación de instrucciones de aritmética saturada? Dé un ejemplo con operaciones con datos de 8 bits\n",
    "\n",
    "Las instrucciones de arimética saturada tienen como ventaja establecer un limite numérico para las operaciones aritméticas y en caso de pasarlo dejar el valor máximo. Si no se utilizaran lo que pasa que al desbordar en número en la cantidad de bits que se utiliza, se vuelve al valor mayor pero de signo contrario, siendo este el valor más alejado opuesto del valor que estabamos representando. En caso del procesamiento de señales es muy util cuando saturamos a una cantidad de bits y que, al excederse de dicho limite se quede en este valor como máximo valor. "
   ]
  },
  {
   "cell_type": "markdown",
   "id": "8cc8f6b2",
   "metadata": {},
   "source": [
    "4. Describa brevemente la interfaz entre assembler y C ¿Cómo se reciben los argumentos de las funciones? ¿Cómo se devuelve el resultado? ¿Qué registros deben guardarse en la pila antes de ser modificados?\n",
    "\n",
    "La ARM calling convention establece que cada argumento se va pasando en orden por los registros R0 a R3. Si hay más argumentos se pasan por el stack los excedentes. Los registros R4 a R11 se utilizan como variables locales dentro de la función pero deben ser guardados en el stack todos aquellos que se vayan a utilizar. En caso de tener que retornar algun parametro tambien lo hace a travez de R0 a R3\n"
   ]
  },
  {
   "cell_type": "markdown",
   "id": "b0f75333",
   "metadata": {},
   "source": [
    "5. ¿Qué es una instrucción SIMD? ¿En qué se aplican y que ventajas reporta su uso? Dé un \n",
    "ejemplo"
   ]
  }
 ],
 "metadata": {
  "kernelspec": {
   "display_name": "Python 3 (ipykernel)",
   "language": "python",
   "name": "python3"
  },
  "language_info": {
   "codemirror_mode": {
    "name": "ipython",
    "version": 3
   },
   "file_extension": ".py",
   "mimetype": "text/x-python",
   "name": "python",
   "nbconvert_exporter": "python",
   "pygments_lexer": "ipython3",
   "version": "3.10.9"
  }
 },
 "nbformat": 4,
 "nbformat_minor": 5
}
